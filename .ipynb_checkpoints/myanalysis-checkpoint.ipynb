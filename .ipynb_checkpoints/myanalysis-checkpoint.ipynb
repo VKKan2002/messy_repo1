{
 "cells": [
  {
   "cell_type": "code",
   "execution_count": null,
   "id": "cell-imports",
   "metadata": {},
   "outputs": [],
   "source": [
    "import numpy as np\n",
    "import pandas as pd\n",
    "import matplotlib.pyplot as plt\n",
    "\n",
    "# Generate a random dataset\n",
    "data = np.random.randn(100, 3)\n",
    "df = pd.DataFrame(data, columns=['A', 'B', 'C'])\n",
    "print(df.head())  # messy print in the global scope"
   ]
  },
  {
   "cell_type": "code",
   "execution_count": null,
   "id": "cell-plot",
   "metadata": {},
   "outputs": [],
   "source": [
    "# Create a scatter plot without any function encapsulation\n",
    "plt.figure(figsize=(8, 6))\n",
    "plt.scatter(df['A'], df['B'])\n",
    "plt.title('Messy Scatter Plot')\n",
    "plt.xlabel('A values')\n",
    "plt.ylabel('B values')\n",
    "plt.show()"
   ]
  }
 ],
 "metadata": {
  "kernelspec": {
   "display_name": "Python 3",
   "language": "python",
   "name": "python3"
  },
  "language_info": {
   "file_extension": ".py",
   "mimetype": "text/x-python",
   "name": "python"
  }
 },
 "nbformat": 4,
 "nbformat_minor": 5
}
